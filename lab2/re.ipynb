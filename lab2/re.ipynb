{
 "cells": [
  {
   "cell_type": "markdown",
   "metadata": {},
   "source": [
    "# 实验2 全链接"
   ]
  },
  {
   "cell_type": "markdown",
   "metadata": {},
   "source": [
    "### 加载mnist手写数字识别数据"
   ]
  },
  {
   "cell_type": "code",
   "execution_count": 8,
   "metadata": {},
   "outputs": [],
   "source": [
    "import torchvision.datasets as dsets  \n",
    "from torchvision.transforms import transforms\n",
    "from torch.utils.data import DataLoader\n",
    "import torch.nn as nn\n",
    "from torch.functional import F\n",
    "import torch\n",
    "from tqdm import tqdm\n",
    "batch_size=32\n",
    "input_size=28*28\n",
    "hidden_size=128  \n",
    "class_num=10  \n",
    "learn_rate=0.001"
   ]
  },
  {
   "cell_type": "markdown",
   "metadata": {},
   "source": [
    "### 数据准备"
   ]
  },
  {
   "cell_type": "code",
   "execution_count": 9,
   "metadata": {},
   "outputs": [],
   "source": [
    "train_data=dsets.MNIST(root='./data',train=True,transform=transforms.ToTensor(),download=True)\n",
    "test_data=dsets.MNIST(root='./data',train=False,transform=transforms.ToTensor(),download=True)\n",
    "train_loader=DataLoader(dataset=train_data,batch_size=batch_size,shuffle=True)\n",
    "test_loader=DataLoader(dataset=test_data,batch_size=batch_size,shuffle=False)"
   ]
  },
  {
   "cell_type": "markdown",
   "metadata": {},
   "source": [
    "### 全链接网络"
   ]
  },
  {
   "cell_type": "code",
   "execution_count": 10,
   "metadata": {},
   "outputs": [],
   "source": [
    "class Net(nn.Module):\n",
    "    def __init__(self, input_size,hidden_size,class_num):#分别代表输入大小，隐藏层神经元数量，输出的大小\n",
    "        super(Net,self).__init__()\n",
    "        self.fc1=nn.Linear(input_size,hidden_size)#隐藏层\n",
    "        self.relu=nn.ReLU()#激活函数   \n",
    "        self.fc3=nn.Linear(hidden_size,64)\n",
    "        self.fc2=nn.Linear(64,class_num)#输出\n",
    "    def forward(self,x):\n",
    "        tmp=self.fc1(x)\n",
    "        tmp=self.relu(tmp)\n",
    "        tmp=self.fc3(tmp)\n",
    "        tmp=self.relu(tmp)\n",
    "        tmp=self.fc2(tmp)\n",
    "        return tmp  "
   ]
  },
  {
   "cell_type": "markdown",
   "metadata": {},
   "source": [
    "### 定义网络"
   ]
  },
  {
   "cell_type": "code",
   "execution_count": 11,
   "metadata": {},
   "outputs": [],
   "source": [
    "net=Net(input_size,hidden_size,class_num)"
   ]
  },
  {
   "cell_type": "markdown",
   "metadata": {},
   "source": [
    "### 训练迭代"
   ]
  },
  {
   "cell_type": "code",
   "execution_count": 12,
   "metadata": {},
   "outputs": [
    {
     "name": "stderr",
     "output_type": "stream",
     "text": [
      "100%|██████████| 3/3 [00:41<00:00, 13.74s/it]\n"
     ]
    }
   ],
   "source": [
    "epoch_num=3\n",
    "loss_f=nn.CrossEntropyLoss()\n",
    "optimizer=torch.optim.Adam(net.parameters(),learn_rate)\n",
    "for epoch in tqdm(range(epoch_num)):\n",
    "    net.train()\n",
    "    for step,(images,labels) in enumerate(train_loader):\n",
    "        images=images.view(-1,28*28)#展开\n",
    "        outputs=net(images)\n",
    "        loss=loss_f(outputs,labels)\n",
    "        optimizer.zero_grad()\n",
    "        loss.backward()\n",
    "        optimizer.step()"
   ]
  },
  {
   "cell_type": "markdown",
   "metadata": {},
   "source": [
    "### 测试集测试"
   ]
  },
  {
   "cell_type": "code",
   "execution_count": 13,
   "metadata": {},
   "outputs": [
    {
     "name": "stdout",
     "output_type": "stream",
     "text": [
      "Accuracy: 97.81%\n"
     ]
    }
   ],
   "source": [
    "net.eval()\n",
    "correct_num=0\n",
    "total_num=0\n",
    "with torch.no_grad():\n",
    "    for images,labels in test_loader:\n",
    "        outputs=net(images.view(-1,28*28))\n",
    "        _,predict=torch.max(outputs,1)\n",
    "        correct_num+=int((predict==labels).sum())\n",
    "        total_num+=int(labels.size(0))\n",
    "print('Accuracy: {}%'.format(str(round(100*correct_num/total_num,5))))"
   ]
  }
 ],
 "metadata": {
  "kernelspec": {
   "display_name": "venv",
   "language": "python",
   "name": "python3"
  },
  "language_info": {
   "codemirror_mode": {
    "name": "ipython",
    "version": 3
   },
   "file_extension": ".py",
   "mimetype": "text/x-python",
   "name": "python",
   "nbconvert_exporter": "python",
   "pygments_lexer": "ipython3",
   "version": "3.8.10"
  }
 },
 "nbformat": 4,
 "nbformat_minor": 2
}
