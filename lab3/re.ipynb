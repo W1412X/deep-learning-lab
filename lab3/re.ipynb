{
 "cells": [
  {
   "cell_type": "markdown",
   "metadata": {},
   "source": [
    "## 文本分类"
   ]
  },
  {
   "cell_type": "markdown",
   "metadata": {},
   "source": [
    "### 导入库"
   ]
  },
  {
   "cell_type": "code",
   "execution_count": 1,
   "metadata": {},
   "outputs": [
    {
     "name": "stderr",
     "output_type": "stream",
     "text": [
      "/home/wangxv/Files/course/dl/venv/lib/python3.8/site-packages/tqdm/auto.py:21: TqdmWarning: IProgress not found. Please update jupyter and ipywidgets. See https://ipywidgets.readthedocs.io/en/stable/user_install.html\n",
      "  from .autonotebook import tqdm as notebook_tqdm\n"
     ]
    }
   ],
   "source": [
    "import torchtext\n",
    "from torchtext.datasets import AG_NEWS\n",
    "import torch\n",
    "import torch.nn as nn  \n",
    "import matplotlib.pyplot as plt  \n",
    "from tqdm import tqdm  \n",
    "import numpy as np   "
   ]
  },
  {
   "cell_type": "markdown",
   "metadata": {},
   "source": [
    "### 下载数据集以及统计数据集的形式  "
   ]
  },
  {
   "cell_type": "code",
   "execution_count": 2,
   "metadata": {},
   "outputs": [
    {
     "name": "stdout",
     "output_type": "stream",
     "text": [
      "(3, \"Wall St. Bears Claw Back Into the Black (Reuters) Reuters - Short-sellers, Wall Street's dwindling\\\\band of ultra-cynics, are seeing green again.\")\n",
      "[1, 2, 3, 4]\n",
      "236.477525\n"
     ]
    }
   ],
   "source": [
    "#下载数据集\n",
    "train_data = AG_NEWS(split='train')\n",
    "test_data = AG_NEWS(split='test')\n",
    "for i in train_data:#看一下训练数据的结构\n",
    "    print(i)\n",
    "    break\n",
    "#这里可以看出结构就是(class,text)\n",
    "classes=[i[0] for i in train_data]\n",
    "classes=list(set(classes))\n",
    "print(classes)\n",
    "class_num=len(classes)\n",
    "#这里看出一共是四个类\n",
    "num=0\n",
    "text=\"\"\n",
    "for i in train_data:\n",
    "    num+=1  \n",
    "    text+=i[1]\n",
    "average_length=len(text)/num  \n",
    "print(average_length)\n",
    "#这里可以得到平均长度(这里是字符串长度)"
   ]
  },
  {
   "cell_type": "markdown",
   "metadata": {},
   "source": [
    "### 利用torchtext内置的工具进行文本预处理  "
   ]
  },
  {
   "cell_type": "markdown",
   "metadata": {},
   "source": [
    "- 先定义一些文本处理工具"
   ]
  },
  {
   "cell_type": "code",
   "execution_count": 3,
   "metadata": {},
   "outputs": [
    {
     "name": "stdout",
     "output_type": "stream",
     "text": [
      "43\n"
     ]
    }
   ],
   "source": [
    "from torchtext.data.utils import get_tokenizer  \n",
    "from torchtext.vocab import build_vocab_from_iterator  \n",
    "#拿到分词器    \n",
    "tokenizer = get_tokenizer('basic_english')  \n",
    "#这里计算一下text的单词平均长度\n",
    "length=0  \n",
    "num=0  \n",
    "for i in train_data:\n",
    "    num+=1\n",
    "    length+=len(tokenizer(i[1]))\n",
    "print(length//num)\n",
    "avg_len=length//num  \n",
    "#创建词汇表  \n",
    "vocabulary=build_vocab_from_iterator(map(lambda x:tokenizer(x[1]),train_data),specials=[\"|NONE|\"])\n",
    "vocabulary.set_default_index(vocabulary[\"|NONE|\"])#设置未出现单词的默认索引  "
   ]
  },
  {
   "cell_type": "markdown",
   "metadata": {},
   "source": [
    "- 定义loader\n",
    "> 这里还需要进行预处理，即把对应的文本转换为对应索引列表"
   ]
  },
  {
   "cell_type": "code",
   "execution_count": 4,
   "metadata": {},
   "outputs": [],
   "source": [
    "import torch.utils\n",
    "import torch.utils.data\n",
    "def preprocess(batch):#这里按批次处理数据  \n",
    "    labels,texts=zip(*batch)\n",
    "    labels=torch.tensor(labels)\n",
    "    tokens=[]\n",
    "    #这里要统一text长度，我是按照平均长度  \n",
    "    for text in texts:\n",
    "        #获取text长度\n",
    "        l=len(tokenizer(text))\n",
    "        add_l=avg_len-l  \n",
    "        tmp=vocabulary(tokenizer(text))[:avg_len]  \n",
    "        tmp+=[vocabulary[\"|NONE|\"] for i in range(0,add_l)]\n",
    "        tokens.append(tmp)\n",
    "    tokens=torch.Tensor(tokens)\n",
    "    return labels,tokens    \n",
    "train_loader = torch.utils.data.DataLoader(train_data, batch_size=32, collate_fn=preprocess)\n",
    "test_loader = torch.utils.data.DataLoader(test_data, batch_size=32, collate_fn=preprocess)"
   ]
  },
  {
   "cell_type": "markdown",
   "metadata": {},
   "source": [
    "### 定义评测函数  "
   ]
  },
  {
   "cell_type": "code",
   "execution_count": 5,
   "metadata": {},
   "outputs": [],
   "source": [
    "def evaluate(model,loader):\n",
    "    model.eval()\n",
    "    right_num=0\n",
    "    total_num=0\n",
    "    for label,data in loader:\n",
    "        outputs=model(data)\n",
    "        outputs=outputs.reshape(-1,).detach().numpy().tolist()\n",
    "        labels=label.reshape(-1,).detach().numpy().tolist()\n",
    "        for i in range(len(labels)):\n",
    "            total_num+=1\n",
    "            if(labels[i]==outputs[i]):\n",
    "                right_num+=1\n",
    "    return right_num/total_num  "
   ]
  },
  {
   "cell_type": "markdown",
   "metadata": {},
   "source": [
    "### 定义训练流程"
   ]
  },
  {
   "cell_type": "code",
   "execution_count": 6,
   "metadata": {},
   "outputs": [],
   "source": [
    "def train(title,model,train_loader,test_loader,criterion,optimizer,epoch_num):\n",
    "    loss_list=[]\n",
    "    acc_list=[]\n",
    "    print(\"Train {}\".format(title))\n",
    "    for epoch in range(epoch_num):\n",
    "        model.train()\n",
    "        tmp_loss=[]\n",
    "        num=0\n",
    "        for labels, texts in tqdm(train_loader):\n",
    "            num+=1\n",
    "            if(num>=50):\n",
    "                break\n",
    "            optimizer.zero_grad()\n",
    "            outputs = model(texts)\n",
    "            labels-=1#这里有坑因为给的标签是从1开始的\n",
    "            loss = criterion(outputs, labels)\n",
    "            loss.backward()\n",
    "            optimizer.step()\n",
    "            tmp_loss.append(float(loss))\n",
    "        #获取这一轮的平均损失\n",
    "        loss_list.append(sum(tmp_loss)/len(tmp_loss))\n",
    "        #获取这一轮的在验证集上正确率\n",
    "        acc_list.append(evaluate(model,test_loader))\n",
    "    plt.plot(np.linspace(0,len(loss_list)+1,len(loss_list)),loss_list,c='r')\n",
    "    plt.title(title)\n",
    "    plt.show()\n",
    "    plt.plot(np.linspace(0,len(acc_list)+1,len(acc_list)),acc_list,c='g')  \n",
    "    plt.title(title)\n",
    "    plt.show()  "
   ]
  },
  {
   "cell_type": "markdown",
   "metadata": {},
   "source": [
    "### 基于全连接的模型"
   ]
  },
  {
   "cell_type": "code",
   "execution_count": 7,
   "metadata": {},
   "outputs": [],
   "source": [
    "class FCModel(nn.Module):\n",
    "    def __init__(self, vocab_size, embed_dim, class_num):\n",
    "        super(FCModel, self).__init__()\n",
    "        self.embedding = nn.Embedding(vocab_size, embed_dim)\n",
    "        self.fc = nn.Linear(embed_dim, class_num)\n",
    "    def forward(self, x):\n",
    "        x=x.long()\n",
    "        x = self.embedding(x)\n",
    "        x = x.mean(dim=1)  #使用平均池化\n",
    "        x = self.fc(x)\n",
    "        return x\n",
    "fc_model = FCModel(len(vocabulary), 100, class_num)\n",
    "criterion=nn.CrossEntropyLoss()\n",
    "optimizer = torch.optim.Adam(fc_model.parameters())\n",
    "#train(\"fc model\",fc_model,train_loader,test_loader,criterion,optimizer,10)"
   ]
  },
  {
   "cell_type": "markdown",
   "metadata": {},
   "source": [
    "### 基于CNN的模型"
   ]
  },
  {
   "cell_type": "code",
   "execution_count": 8,
   "metadata": {},
   "outputs": [],
   "source": [
    "class CNNModel(nn.Module):\n",
    "    def __init__(self, vocab_size, embed_dim, class_num):\n",
    "        super(CNNModel, self).__init__()\n",
    "        self.embedding = nn.Embedding(vocab_size, embed_dim)#这里我们把每一个句子看成avg_num*embed_dim*1的图片就好理解了  \n",
    "        self.conv1 = nn.Conv2d(in_channels=1, out_channels=8, kernel_size=3,stride=1,padding=1)\n",
    "        self.pool1 = nn.MaxPool2d(kernel_size=2,stride=2)\n",
    "        self.conv2 = nn.Conv2d(in_channels=8,out_channels=64,kernel_size=2,stride=2)\n",
    "        self.pool2 = nn.MaxPool2d(kernel_size=2,stride=2)\n",
    "        self.relu=nn.ReLU()\n",
    "        self.fc = nn.Linear(3840, class_num)\n",
    "    def forward(self, x):\n",
    "        x=x.long()\n",
    "        x = self.embedding(x).unsqueeze(1)#添加通道维度\n",
    "        x = self.conv1(x)\n",
    "        x = self.relu(x)\n",
    "        x = self.pool1(x)\n",
    "        x = self.conv2(x)\n",
    "        x = self.relu(x)\n",
    "        x = self.pool2(x)\n",
    "        x = x.view(x.size(0),-1)  \n",
    "        x = self.fc(x)\n",
    "        return x\n",
    "cnn_model = CNNModel(len(vocabulary), 100, class_num)\n",
    "criterion=nn.CrossEntropyLoss()\n",
    "optimizer = torch.optim.Adam(cnn_model.parameters())\n",
    "#train(\"cnn model\",cnn_model,train_loader,test_loader,criterion,optimizer,10)"
   ]
  },
  {
   "cell_type": "markdown",
   "metadata": {},
   "source": [
    "### 基于RNN的模型分类(双向)"
   ]
  },
  {
   "cell_type": "code",
   "execution_count": 9,
   "metadata": {},
   "outputs": [],
   "source": [
    "class RNNModel(nn.Module):\n",
    "    def __init__(self,vocab_size,embed_dim,class_num):\n",
    "        super(RNNModel,self).__init__()\n",
    "        self.embedding = nn.Embedding(vocab_size, embed_dim)\n",
    "        self.rnn=nn.RNN(input_size=100,hidden_size=64,num_layers=2,bidirectional=True,batch_first=True)\n",
    "        self.fc=nn.Linear(64*2,class_num)\n",
    "    def forward(self,x):\n",
    "        x=x.long()\n",
    "        x=self.embedding(x)\n",
    "        out,_=self.rnn(x)\n",
    "        out=out[:,-1,:]\n",
    "        out=self.fc(out)\n",
    "        return out  \n",
    "rnn_model = RNNModel(len(vocabulary), 100, class_num)\n",
    "criterion=nn.CrossEntropyLoss()\n",
    "optimizer = torch.optim.Adam(rnn_model.parameters())\n",
    "#train(\"rnn model\",rnn_model,train_loader,test_loader,criterion,optimizer,5)"
   ]
  },
  {
   "cell_type": "markdown",
   "metadata": {},
   "source": [
    "### 基于Transformer  编码解码结构 的模型分类"
   ]
  },
  {
   "cell_type": "code",
   "execution_count": 14,
   "metadata": {},
   "outputs": [
    {
     "name": "stdout",
     "output_type": "stream",
     "text": [
      "Train transformer model\n"
     ]
    },
    {
     "name": "stderr",
     "output_type": "stream",
     "text": [
      "49it [00:20,  2.35it/s]\n",
      "49it [00:21,  2.33it/s]\n",
      "49it [00:20,  2.34it/s]\n",
      "49it [00:20,  2.37it/s]\n",
      "49it [00:20,  2.36it/s]\n"
     ]
    },
    {
     "data": {
      "image/png": "[encoded data removed]",
      "text/plain": [
       "<Figure size 640x480 with 1 Axes>"
      ]
     },
     "metadata": {},
     "output_type": "display_data"
    },
    {
     "data": {
      "image/png": "[encoded data removed]",
      "text/plain": [
       "<Figure size 640x480 with 1 Axes>"
      ]
     },
     "metadata": {},
     "output_type": "display_data"
    }
   ],
   "source": [
    "import torch\n",
    "import torch.nn as nn\n",
    "class TransformerModel(nn.Module):\n",
    "    def __init__(self, vocab_size, embed_dim, class_num):\n",
    "        super(TransformerModel, self).__init__()\n",
    "        self.embedding = nn.Embedding(vocab_size, embed_dim)\n",
    "        self.transformer = nn.Transformer(d_model=embed_dim, \n",
    "                                          nhead=2,\n",
    "                                           num_encoder_layers=1, \n",
    "                                           num_decoder_layers=1)\n",
    "        self.model_dim=embed_dim\n",
    "        self.fc = nn.Linear(embed_dim*100, class_num)\n",
    "    def forward(self, x):\n",
    "        x=x.long()\n",
    "        x=self.embedding(x)\n",
    "        src = x.reshape(x.shape[1],x.shape[0],-1)\n",
    "        tgt = torch.zeros(( 100, x.shape[0],self.model_dim))\n",
    "        out = self.transformer(src, tgt)\n",
    "        out = out.reshape(out.shape[1],-1)\n",
    "        out = self.fc(out)\n",
    "        return out\n",
    "ts_model = TransformerModel(len(vocabulary), 100, class_num)\n",
    "criterion=nn.CrossEntropyLoss()\n",
    "optimizer = torch.optim.Adam(ts_model.parameters())\n",
    "train(\"transformer model\",ts_model,train_loader,test_loader,criterion,optimizer,5)"
   ]
  }
 ],
 "metadata": {
  "kernelspec": {
   "display_name": "venv",
   "language": "python",
   "name": "python3"
  },
  "language_info": {
   "codemirror_mode": {
    "name": "ipython",
    "version": 3
   },
   "file_extension": ".py",
   "mimetype": "text/x-python",
   "name": "python",
   "nbconvert_exporter": "python",
   "pygments_lexer": "ipython3",
   "version": "3.8.10"
  }
 },
 "nbformat": 4,
 "nbformat_minor": 2
}
